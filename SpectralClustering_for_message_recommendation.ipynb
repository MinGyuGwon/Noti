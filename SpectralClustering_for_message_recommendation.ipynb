{
 "cells": [
  {
   "cell_type": "code",
   "execution_count": 1,
   "metadata": {
    "canvas": {
     "comments": [],
     "componentType": "CodeCell",
     "copiedOriginId": null,
     "headerColor": "none",
     "id": "81a57c87-60d1-4314-9a91-6169a4b2f327",
     "isComponent": false,
     "name": "",
     "parents": []
    },
    "id": "s1iZ7u6bZpiY",
    "tags": []
   },
   "outputs": [],
   "source": [
    "import pandas as pd\n",
    "import matplotlib.pyplot as plt\n",
    "import numpy as np\n",
    "\n",
    "from sklearn.cluster import SpectralClustering\n",
    "from scipy.sparse import csgraph\n",
    "from numpy import linalg as LA\n",
    "\n",
    "import networkx as nx "
   ]
  },
  {
   "cell_type": "markdown",
   "metadata": {
    "canvas": {
     "comments": [],
     "componentType": "CodeCell",
     "copiedOriginId": null,
     "headerColor": "none",
     "id": "85ae4dd1-ded9-472c-9fe5-15c1eb67555e",
     "isComponent": false,
     "name": "",
     "parents": []
    },
    "id": "pp2vftMwaqn1"
   },
   "source": [
    "## Create Mock Data"
   ]
  },
  {
   "cell_type": "code",
   "execution_count": 2,
   "metadata": {
    "canvas": {
     "comments": [],
     "componentType": "CodeCell",
     "copiedOriginId": null,
     "headerColor": "none",
     "id": "42955642-8cea-4021-99bd-91a76d908053",
     "isComponent": false,
     "name": "",
     "parents": []
    },
    "id": "LA2tmV_V9_6h"
   },
   "outputs": [],
   "source": [
    "# Undirected-Graph\n",
    "# Interaction between Crews\n",
    "adj = [\n",
    "[0,1,1,0,124,1,1,0,0,0,0,0,0],\n",
    "[1,0,0,0,0,0,0,0,0,0,0,0,57],\n",
    "[1,0,0,0,0,0,0,0,0,0,0,0,0],\n",
    "[0,0,0,0,1,1,0,64,0,0,0,0,0],\n",
    "[124,0,0,1,0,1,1,0,0,45,0,0,0],\n",
    "[1,0,0,1,1,0,0,0,0,0,0,0,34],\n",
    "[1,0,0,0,1,0,0,0,1,0,0,0,0],\n",
    "[0,0,0,64,0,0,0,1,0,0,0,0,0],\n",
    "[0,0,0,0,0,0,1,0,0,0,0,0,0],\n",
    "[0,0,0,0,45,0,0,0,0,0,1,1,1],\n",
    "[0,0,0,0,0,0,0,0,0,1,0,0,0],\n",
    "[0,0,0,0,0,0,0,0,0,1,0,0,1],\n",
    "[0,57,0,0,0,34,0,0,0,1,0,1,0]]"
   ]
  },
  {
   "cell_type": "code",
   "execution_count": 3,
   "metadata": {
    "canvas": {
     "comments": [],
     "componentType": "CodeCell",
     "copiedOriginId": null,
     "headerColor": "none",
     "id": "4584024b-0aa1-4279-b09f-268032dbdd38",
     "isComponent": false,
     "name": "",
     "parents": []
    },
    "id": "GPYK6mH1NbRO"
   },
   "outputs": [],
   "source": [
    "adj = np.array(adj)"
   ]
  },
  {
   "cell_type": "code",
   "execution_count": 4,
   "metadata": {
    "canvas": {
     "comments": [],
     "componentType": "CodeCell",
     "copiedOriginId": null,
     "headerColor": "none",
     "id": "ebd03250-4443-496b-b7e7-ab84f06adb99",
     "isComponent": false,
     "name": "",
     "parents": []
    },
    "colab": {
     "base_uri": "https://localhost:8080/"
    },
    "id": "kKI23ksnOJha",
    "outputId": "3711cc44-d0b0-4e69-9f69-c9657bb76c09"
   },
   "outputs": [
    {
     "data": {
      "text/plain": [
       "array([[ True,  True,  True,  True,  True,  True,  True,  True,  True,\n",
       "         True,  True,  True,  True],\n",
       "       [ True,  True,  True,  True,  True,  True,  True,  True,  True,\n",
       "         True,  True,  True,  True],\n",
       "       [ True,  True,  True,  True,  True,  True,  True,  True,  True,\n",
       "         True,  True,  True,  True],\n",
       "       [ True,  True,  True,  True,  True,  True,  True,  True,  True,\n",
       "         True,  True,  True,  True],\n",
       "       [ True,  True,  True,  True,  True,  True,  True,  True,  True,\n",
       "         True,  True,  True,  True],\n",
       "       [ True,  True,  True,  True,  True,  True,  True,  True,  True,\n",
       "         True,  True,  True,  True],\n",
       "       [ True,  True,  True,  True,  True,  True,  True,  True,  True,\n",
       "         True,  True,  True,  True],\n",
       "       [ True,  True,  True,  True,  True,  True,  True,  True,  True,\n",
       "         True,  True,  True,  True],\n",
       "       [ True,  True,  True,  True,  True,  True,  True,  True,  True,\n",
       "         True,  True,  True,  True],\n",
       "       [ True,  True,  True,  True,  True,  True,  True,  True,  True,\n",
       "         True,  True,  True,  True],\n",
       "       [ True,  True,  True,  True,  True,  True,  True,  True,  True,\n",
       "         True,  True,  True,  True],\n",
       "       [ True,  True,  True,  True,  True,  True,  True,  True,  True,\n",
       "         True,  True,  True,  True],\n",
       "       [ True,  True,  True,  True,  True,  True,  True,  True,  True,\n",
       "         True,  True,  True,  True]])"
      ]
     },
     "execution_count": 4,
     "metadata": {},
     "output_type": "execute_result"
    }
   ],
   "source": [
    "adj == adj.T"
   ]
  },
  {
   "cell_type": "code",
   "execution_count": 5,
   "metadata": {
    "canvas": {
     "comments": [],
     "componentType": "CodeCell",
     "copiedOriginId": null,
     "headerColor": "none",
     "id": "ba908f13-fb3d-4347-97e3-2d336624052e",
     "isComponent": false,
     "name": "",
     "parents": []
    },
    "id": "KYlxQT31BR_i"
   },
   "outputs": [],
   "source": [
    "G = nx.from_numpy_matrix(adj)"
   ]
  },
  {
   "cell_type": "code",
   "execution_count": 6,
   "metadata": {
    "canvas": {
     "comments": [],
     "componentType": "CodeCell",
     "copiedOriginId": null,
     "headerColor": "none",
     "id": "591eaaa4-57f5-4940-9025-207fb2119e0a",
     "isComponent": false,
     "name": "",
     "parents": []
    },
    "colab": {
     "base_uri": "https://localhost:8080/",
     "height": 319
    },
    "id": "f6jBmWFQBSBS",
    "outputId": "c2a06ca7-dd67-480e-dc0e-3d11eb533a69"
   },
   "outputs": [
    {
     "data": {
      "image/png": "[encoded data removed]",
      "text/plain": [
       "<Figure size 432x288 with 1 Axes>"
      ]
     },
     "metadata": {},
     "output_type": "display_data"
    }
   ],
   "source": [
    "nx.draw(G, pos=nx.spectral_layout(G), with_labels=True)\n",
    "plt.show()"
   ]
  },
  {
   "cell_type": "code",
   "execution_count": 7,
   "metadata": {
    "canvas": {
     "comments": [],
     "componentType": "CodeCell",
     "copiedOriginId": null,
     "headerColor": "none",
     "id": "f45c2aef-9b6a-4505-b4e3-b2da06f07353",
     "isComponent": false,
     "name": "",
     "parents": []
    },
    "id": "VJa76qN4uXZm"
   },
   "outputs": [],
   "source": [
    "def eigenDecomposition(A, plot = True, topK = 5):\n",
    "    L = csgraph.laplacian(A, normed=True) # Compute Laplacian Matrix\n",
    "    n_components = A.shape[0] # number of employees\n",
    "    \n",
    "    eigenvalues, eigenvectors = LA.eig(L)\n",
    "    \n",
    "    if plot:\n",
    "        plt.title('Largest eigen values of input matrix')\n",
    "        plt.scatter(np.arange(len(eigenvalues)), eigenvalues)\n",
    "        plt.grid()\n",
    "        \n",
    "    index_largest_gap = np.argsort(np.diff(eigenvalues))[::-1][:topK]\n",
    "    nb_clusters = index_largest_gap + 1\n",
    "        \n",
    "    return nb_clusters, eigenvalues, eigenvectors"
   ]
  },
  {
   "cell_type": "code",
   "execution_count": 8,
   "metadata": {
    "canvas": {
     "comments": [],
     "componentType": "CodeCell",
     "copiedOriginId": null,
     "headerColor": "none",
     "id": "16c948b4-a135-4cad-b2b3-d8243ff82864",
     "isComponent": false,
     "name": "",
     "parents": []
    },
    "colab": {
     "base_uri": "https://localhost:8080/",
     "height": 300
    },
    "id": "GRkEPB-rQUIP",
    "outputId": "1917c762-82fc-486f-da94-5c434c67f692"
   },
   "outputs": [
    {
     "name": "stdout",
     "output_type": "stream",
     "text": [
      "Optimal number of clusters [ 3  8 10  1 12]\n"
     ]
    },
    {
     "data": {
      "image/png": "[encoded data removed]",
      "text/plain": [
       "<Figure size 432x288 with 1 Axes>"
      ]
     },
     "metadata": {
      "needs_background": "light"
     },
     "output_type": "display_data"
    }
   ],
   "source": [
    "k, _,  _ = eigenDecomposition(adj)\n",
    "print(f'Optimal number of clusters {k}')"
   ]
  },
  {
   "cell_type": "code",
   "execution_count": 10,
   "metadata": {
    "canvas": {
     "comments": [],
     "componentType": "CodeCell",
     "copiedOriginId": null,
     "headerColor": "none",
     "id": "03a53222-31af-4120-a6f8-758b1311dd62",
     "isComponent": false,
     "name": "",
     "parents": []
    },
    "colab": {
     "base_uri": "https://localhost:8080/"
    },
    "id": "12nqvvy6Qg_B",
    "outputId": "50877bb4-eb9d-426f-e9a1-82fee9fb6c79"
   },
   "outputs": [
    {
     "name": "stderr",
     "output_type": "stream",
     "text": [
      "/usr/local/lib/python3.7/dist-packages/sklearn/cluster/_spectral.py:590: UserWarning: The spectral clustering API has changed. ``fit``now constructs an affinity matrix from data. To use a custom affinity matrix, set ``affinity=precomputed``.\n",
      "  \"The spectral clustering API has changed. ``fit``\"\n",
      "/usr/local/lib/python3.7/dist-packages/sklearn/manifold/_spectral_embedding.py:261: UserWarning: Graph is not fully connected, spectral embedding may not work as expected.\n",
      "  \"Graph is not fully connected, spectral embedding may not work as expected.\"\n"
     ]
    }
   ],
   "source": [
    "clustering = SpectralClustering(n_clusters = k[0]).fit(adj)"
   ]
  },
  {
   "cell_type": "code",
   "execution_count": 11,
   "metadata": {
    "canvas": {
     "comments": [],
     "componentType": "CodeCell",
     "copiedOriginId": null,
     "headerColor": "none",
     "id": "3fe0fb70-c063-4b21-ade0-4315f6c440bb",
     "isComponent": false,
     "name": "",
     "parents": []
    },
    "colab": {
     "base_uri": "https://localhost:8080/"
    },
    "id": "1Z8LSCPvRgUf",
    "outputId": "0f993be9-96e3-4db5-a529-c9b62163ae78"
   },
   "outputs": [
    {
     "data": {
      "text/plain": [
       "array([0, 1, 0, 0, 0, 2, 0, 0, 0, 0, 0, 0, 0], dtype=int32)"
      ]
     },
     "execution_count": 11,
     "metadata": {},
     "output_type": "execute_result"
    }
   ],
   "source": [
    "clustering.labels_"
   ]
  },
  {
   "cell_type": "code",
   "execution_count": 12,
   "metadata": {
    "canvas": {
     "comments": [],
     "componentType": "CodeCell",
     "copiedOriginId": null,
     "headerColor": "none",
     "id": "9cf9c1e4-dc0d-4477-b7a3-6a4227e8a430",
     "isComponent": false,
     "name": "",
     "parents": []
    },
    "id": "3kNqPIgdPmC0"
   },
   "outputs": [],
   "source": [
    "color_lst = ['blue', 'red', 'green', 'orange', 'purple']"
   ]
  },
  {
   "cell_type": "code",
   "execution_count": null,
   "metadata": {
    "canvas": {
     "comments": [],
     "componentType": "CodeCell",
     "copiedOriginId": null,
     "headerColor": "none",
     "id": "0ee0252c-4b23-411e-ae88-c4a6d31aacc9",
     "isComponent": false,
     "name": "",
     "parents": []
    },
    "id": "blbjuOw_QtlJ"
   },
   "outputs": [],
   "source": [
    "nx.draw_networkx_nodes(G, nx.spectral_layout(G),\n",
    "                      nodelist= clustering.labels_ == idx ,  \n",
    "                      node_color= color,\n",
    "                      node_size=10)"
   ]
  },
  {
   "cell_type": "code",
   "execution_count": 26,
   "metadata": {
    "canvas": {
     "comments": [],
     "componentType": "CodeCell",
     "copiedOriginId": null,
     "headerColor": "none",
     "id": "f67f0eeb-891e-42c2-bb53-ee898b6e9bab",
     "isComponent": false,
     "name": "",
     "parents": []
    },
    "colab": {
     "base_uri": "https://localhost:8080/"
    },
    "id": "b-2Fb72iRfCn",
    "outputId": "dbb14ef8-e345-46de-ba99-81f271290df7"
   },
   "outputs": [
    {
     "data": {
      "text/plain": [
       "array([0, 1, 0, 0, 0, 2, 0, 0, 0, 0, 0, 0, 0], dtype=int32)"
      ]
     },
     "execution_count": 26,
     "metadata": {},
     "output_type": "execute_result"
    }
   ],
   "source": [
    "clustering.labels_"
   ]
  },
  {
   "cell_type": "code",
   "execution_count": 28,
   "metadata": {
    "canvas": {
     "comments": [],
     "componentType": "CodeCell",
     "copiedOriginId": null,
     "headerColor": "none",
     "id": "834ae707-8644-4db5-a5a3-e86842d4162b",
     "isComponent": false,
     "name": "",
     "parents": []
    },
    "colab": {
     "base_uri": "https://localhost:8080/"
    },
    "id": "9-ezbIxuRgQ9",
    "outputId": "6eeb6e80-b768-48fd-eaaa-b7565b69fcdc"
   },
   "outputs": [
    {
     "data": {
      "text/plain": [
       "array([ True, False,  True,  True,  True, False,  True,  True,  True,\n",
       "        True,  True,  True,  True])"
      ]
     },
     "execution_count": 28,
     "metadata": {},
     "output_type": "execute_result"
    }
   ],
   "source": [
    "clustering.labels_ == 0"
   ]
  },
  {
   "cell_type": "code",
   "execution_count": 29,
   "metadata": {
    "canvas": {
     "comments": [],
     "componentType": "CodeCell",
     "copiedOriginId": null,
     "headerColor": "none",
     "id": "6104a287-dc9b-4f35-8a0c-291c2a3c0e3f",
     "isComponent": false,
     "name": "",
     "parents": []
    },
    "colab": {
     "base_uri": "https://localhost:8080/"
    },
    "id": "adU6F8zXRGTh",
    "outputId": "29aa1e1e-fcfb-4fd9-8b52-8fd897a14d7c"
   },
   "outputs": [
    {
     "data": {
      "text/plain": [
       "(array([ 0,  2,  3,  4,  6,  7,  8,  9, 10, 11, 12]),)"
      ]
     },
     "execution_count": 29,
     "metadata": {},
     "output_type": "execute_result"
    }
   ],
   "source": [
    "np.where((clustering.labels_ == 0) == True)"
   ]
  },
  {
   "cell_type": "code",
   "execution_count": 34,
   "metadata": {
    "canvas": {
     "comments": [],
     "componentType": "CodeCell",
     "copiedOriginId": null,
     "headerColor": "none",
     "id": "c50dcdee-132b-43e4-8599-a00967e94c59",
     "isComponent": false,
     "name": "",
     "parents": []
    },
    "colab": {
     "base_uri": "https://localhost:8080/"
    },
    "id": "OuLOkhhjSLsg",
    "outputId": "417383da-9fb9-444c-b05d-df79246cb13e"
   },
   "outputs": [
    {
     "data": {
      "text/plain": [
       "['blue', 'red', 'green', 'orange', 'purple']"
      ]
     },
     "execution_count": 34,
     "metadata": {},
     "output_type": "execute_result"
    }
   ],
   "source": [
    "color_lst"
   ]
  },
  {
   "cell_type": "code",
   "execution_count": 36,
   "metadata": {
    "canvas": {
     "comments": [],
     "componentType": "CodeCell",
     "copiedOriginId": null,
     "headerColor": "none",
     "id": "4dc70edb-a406-4aec-8eb5-f322dfafa322",
     "isComponent": false,
     "name": "",
     "parents": []
    },
    "id": "NadR_36wP9dH"
   },
   "outputs": [],
   "source": [
    "# for idx, (node, color) in enumerate(zip(range(k[0]) , color_lst)):\n",
    "#   print(f\"{idx} {node}, {color}\")\n",
    "#   nx.draw_networkx_nodes(G, nx.spectral_layout(G),\n",
    "#                         nodelist= list(np.where((clustering.labels_ == idx) == True)) ,  \n",
    "#                         node_color= color,\n",
    "#                         node_size=100)\n",
    "# plt.show()"
   ]
  }
 ],
 "metadata": {
  "canvas": {
   "colorPalette": [
    "inherit",
    "inherit",
    "inherit",
    "inherit",
    "inherit",
    "inherit",
    "inherit",
    "inherit",
    "inherit",
    "inherit"
   ],
   "parameters": []
  },
  "colab": {
   "collapsed_sections": [],
   "name": "SpectralClustering for message recommendation.ipynb",
   "provenance": []
  },
  "kernelspec": {
   "display_name": "Python 3.9 (Link)",
   "language": "python",
   "name": "python3"
  },
  "language_info": {
   "name": "python"
  }
 },
 "nbformat": 4,
 "nbformat_minor": 4
}
